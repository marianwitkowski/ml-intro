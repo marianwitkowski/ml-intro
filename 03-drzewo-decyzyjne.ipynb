{
 "cells": [
  {
   "cell_type": "code",
   "execution_count": 1,
   "id": "56684182",
   "metadata": {},
   "outputs": [
    {
     "name": "stderr",
     "output_type": "stream",
     "text": [
      "/Users/marian/opt/anaconda3/lib/python3.9/site-packages/scipy/__init__.py:146: UserWarning: A NumPy version >=1.16.5 and <1.23.0 is required for this version of SciPy (detected version 1.23.4\n",
      "  warnings.warn(f\"A NumPy version >={np_minversion} and <{np_maxversion}\"\n"
     ]
    }
   ],
   "source": [
    "import numpy as np\n",
    "import pandas as pd\n",
    "import matplotlib.pyplot as plt\n",
    "import seaborn as sns\n",
    "import joblib"
   ]
  },
  {
   "cell_type": "code",
   "execution_count": 2,
   "id": "64f8767e",
   "metadata": {},
   "outputs": [
    {
     "data": {
      "text/html": [
       "<div>\n",
       "<style scoped>\n",
       "    .dataframe tbody tr th:only-of-type {\n",
       "        vertical-align: middle;\n",
       "    }\n",
       "\n",
       "    .dataframe tbody tr th {\n",
       "        vertical-align: top;\n",
       "    }\n",
       "\n",
       "    .dataframe thead th {\n",
       "        text-align: right;\n",
       "    }\n",
       "</style>\n",
       "<table border=\"1\" class=\"dataframe\">\n",
       "  <thead>\n",
       "    <tr style=\"text-align: right;\">\n",
       "      <th></th>\n",
       "      <th>sepallength</th>\n",
       "      <th>sepalwidth</th>\n",
       "      <th>petallength</th>\n",
       "      <th>petalwidth</th>\n",
       "      <th>class</th>\n",
       "    </tr>\n",
       "  </thead>\n",
       "  <tbody>\n",
       "    <tr>\n",
       "      <th>0</th>\n",
       "      <td>5.1</td>\n",
       "      <td>3.5</td>\n",
       "      <td>1.4</td>\n",
       "      <td>0.2</td>\n",
       "      <td>Iris-setosa</td>\n",
       "    </tr>\n",
       "    <tr>\n",
       "      <th>1</th>\n",
       "      <td>4.9</td>\n",
       "      <td>3.0</td>\n",
       "      <td>1.4</td>\n",
       "      <td>0.2</td>\n",
       "      <td>Iris-setosa</td>\n",
       "    </tr>\n",
       "    <tr>\n",
       "      <th>2</th>\n",
       "      <td>4.7</td>\n",
       "      <td>3.2</td>\n",
       "      <td>1.3</td>\n",
       "      <td>0.2</td>\n",
       "      <td>Iris-setosa</td>\n",
       "    </tr>\n",
       "    <tr>\n",
       "      <th>3</th>\n",
       "      <td>4.6</td>\n",
       "      <td>3.1</td>\n",
       "      <td>1.5</td>\n",
       "      <td>0.2</td>\n",
       "      <td>Iris-setosa</td>\n",
       "    </tr>\n",
       "    <tr>\n",
       "      <th>4</th>\n",
       "      <td>5.0</td>\n",
       "      <td>3.6</td>\n",
       "      <td>1.4</td>\n",
       "      <td>0.2</td>\n",
       "      <td>Iris-setosa</td>\n",
       "    </tr>\n",
       "    <tr>\n",
       "      <th>...</th>\n",
       "      <td>...</td>\n",
       "      <td>...</td>\n",
       "      <td>...</td>\n",
       "      <td>...</td>\n",
       "      <td>...</td>\n",
       "    </tr>\n",
       "    <tr>\n",
       "      <th>145</th>\n",
       "      <td>6.7</td>\n",
       "      <td>3.0</td>\n",
       "      <td>5.2</td>\n",
       "      <td>2.3</td>\n",
       "      <td>Iris-virginica</td>\n",
       "    </tr>\n",
       "    <tr>\n",
       "      <th>146</th>\n",
       "      <td>6.3</td>\n",
       "      <td>2.5</td>\n",
       "      <td>5.0</td>\n",
       "      <td>1.9</td>\n",
       "      <td>Iris-virginica</td>\n",
       "    </tr>\n",
       "    <tr>\n",
       "      <th>147</th>\n",
       "      <td>6.5</td>\n",
       "      <td>3.0</td>\n",
       "      <td>5.2</td>\n",
       "      <td>2.0</td>\n",
       "      <td>Iris-virginica</td>\n",
       "    </tr>\n",
       "    <tr>\n",
       "      <th>148</th>\n",
       "      <td>6.2</td>\n",
       "      <td>3.4</td>\n",
       "      <td>5.4</td>\n",
       "      <td>2.3</td>\n",
       "      <td>Iris-virginica</td>\n",
       "    </tr>\n",
       "    <tr>\n",
       "      <th>149</th>\n",
       "      <td>5.9</td>\n",
       "      <td>3.0</td>\n",
       "      <td>5.1</td>\n",
       "      <td>1.8</td>\n",
       "      <td>Iris-virginica</td>\n",
       "    </tr>\n",
       "  </tbody>\n",
       "</table>\n",
       "<p>150 rows × 5 columns</p>\n",
       "</div>"
      ],
      "text/plain": [
       "     sepallength  sepalwidth  petallength  petalwidth           class\n",
       "0            5.1         3.5          1.4         0.2     Iris-setosa\n",
       "1            4.9         3.0          1.4         0.2     Iris-setosa\n",
       "2            4.7         3.2          1.3         0.2     Iris-setosa\n",
       "3            4.6         3.1          1.5         0.2     Iris-setosa\n",
       "4            5.0         3.6          1.4         0.2     Iris-setosa\n",
       "..           ...         ...          ...         ...             ...\n",
       "145          6.7         3.0          5.2         2.3  Iris-virginica\n",
       "146          6.3         2.5          5.0         1.9  Iris-virginica\n",
       "147          6.5         3.0          5.2         2.0  Iris-virginica\n",
       "148          6.2         3.4          5.4         2.3  Iris-virginica\n",
       "149          5.9         3.0          5.1         1.8  Iris-virginica\n",
       "\n",
       "[150 rows x 5 columns]"
      ]
     },
     "execution_count": 2,
     "metadata": {},
     "output_type": "execute_result"
    }
   ],
   "source": [
    "df = pd.read_csv(\"http://51.91.120.89/extras/iris.csv\")\n",
    "df"
   ]
  },
  {
   "cell_type": "code",
   "execution_count": 3,
   "id": "56e82186",
   "metadata": {},
   "outputs": [
    {
     "data": {
      "text/plain": [
       "Iris-setosa        50\n",
       "Iris-versicolor    50\n",
       "Iris-virginica     50\n",
       "Name: class, dtype: int64"
      ]
     },
     "execution_count": 3,
     "metadata": {},
     "output_type": "execute_result"
    }
   ],
   "source": [
    "df[\"class\"].value_counts()"
   ]
  },
  {
   "cell_type": "code",
   "execution_count": 4,
   "id": "4ac14f3d",
   "metadata": {},
   "outputs": [
    {
     "data": {
      "text/html": [
       "<div>\n",
       "<style scoped>\n",
       "    .dataframe tbody tr th:only-of-type {\n",
       "        vertical-align: middle;\n",
       "    }\n",
       "\n",
       "    .dataframe tbody tr th {\n",
       "        vertical-align: top;\n",
       "    }\n",
       "\n",
       "    .dataframe thead th {\n",
       "        text-align: right;\n",
       "    }\n",
       "</style>\n",
       "<table border=\"1\" class=\"dataframe\">\n",
       "  <thead>\n",
       "    <tr style=\"text-align: right;\">\n",
       "      <th></th>\n",
       "      <th>sepallength</th>\n",
       "      <th>sepalwidth</th>\n",
       "      <th>petallength</th>\n",
       "      <th>petalwidth</th>\n",
       "      <th>class</th>\n",
       "      <th>class_value</th>\n",
       "    </tr>\n",
       "  </thead>\n",
       "  <tbody>\n",
       "    <tr>\n",
       "      <th>0</th>\n",
       "      <td>5.1</td>\n",
       "      <td>3.5</td>\n",
       "      <td>1.4</td>\n",
       "      <td>0.2</td>\n",
       "      <td>Iris-setosa</td>\n",
       "      <td>0</td>\n",
       "    </tr>\n",
       "    <tr>\n",
       "      <th>1</th>\n",
       "      <td>4.9</td>\n",
       "      <td>3.0</td>\n",
       "      <td>1.4</td>\n",
       "      <td>0.2</td>\n",
       "      <td>Iris-setosa</td>\n",
       "      <td>0</td>\n",
       "    </tr>\n",
       "    <tr>\n",
       "      <th>2</th>\n",
       "      <td>4.7</td>\n",
       "      <td>3.2</td>\n",
       "      <td>1.3</td>\n",
       "      <td>0.2</td>\n",
       "      <td>Iris-setosa</td>\n",
       "      <td>0</td>\n",
       "    </tr>\n",
       "    <tr>\n",
       "      <th>3</th>\n",
       "      <td>4.6</td>\n",
       "      <td>3.1</td>\n",
       "      <td>1.5</td>\n",
       "      <td>0.2</td>\n",
       "      <td>Iris-setosa</td>\n",
       "      <td>0</td>\n",
       "    </tr>\n",
       "    <tr>\n",
       "      <th>4</th>\n",
       "      <td>5.0</td>\n",
       "      <td>3.6</td>\n",
       "      <td>1.4</td>\n",
       "      <td>0.2</td>\n",
       "      <td>Iris-setosa</td>\n",
       "      <td>0</td>\n",
       "    </tr>\n",
       "    <tr>\n",
       "      <th>...</th>\n",
       "      <td>...</td>\n",
       "      <td>...</td>\n",
       "      <td>...</td>\n",
       "      <td>...</td>\n",
       "      <td>...</td>\n",
       "      <td>...</td>\n",
       "    </tr>\n",
       "    <tr>\n",
       "      <th>145</th>\n",
       "      <td>6.7</td>\n",
       "      <td>3.0</td>\n",
       "      <td>5.2</td>\n",
       "      <td>2.3</td>\n",
       "      <td>Iris-virginica</td>\n",
       "      <td>2</td>\n",
       "    </tr>\n",
       "    <tr>\n",
       "      <th>146</th>\n",
       "      <td>6.3</td>\n",
       "      <td>2.5</td>\n",
       "      <td>5.0</td>\n",
       "      <td>1.9</td>\n",
       "      <td>Iris-virginica</td>\n",
       "      <td>2</td>\n",
       "    </tr>\n",
       "    <tr>\n",
       "      <th>147</th>\n",
       "      <td>6.5</td>\n",
       "      <td>3.0</td>\n",
       "      <td>5.2</td>\n",
       "      <td>2.0</td>\n",
       "      <td>Iris-virginica</td>\n",
       "      <td>2</td>\n",
       "    </tr>\n",
       "    <tr>\n",
       "      <th>148</th>\n",
       "      <td>6.2</td>\n",
       "      <td>3.4</td>\n",
       "      <td>5.4</td>\n",
       "      <td>2.3</td>\n",
       "      <td>Iris-virginica</td>\n",
       "      <td>2</td>\n",
       "    </tr>\n",
       "    <tr>\n",
       "      <th>149</th>\n",
       "      <td>5.9</td>\n",
       "      <td>3.0</td>\n",
       "      <td>5.1</td>\n",
       "      <td>1.8</td>\n",
       "      <td>Iris-virginica</td>\n",
       "      <td>2</td>\n",
       "    </tr>\n",
       "  </tbody>\n",
       "</table>\n",
       "<p>150 rows × 6 columns</p>\n",
       "</div>"
      ],
      "text/plain": [
       "     sepallength  sepalwidth  petallength  petalwidth           class  \\\n",
       "0            5.1         3.5          1.4         0.2     Iris-setosa   \n",
       "1            4.9         3.0          1.4         0.2     Iris-setosa   \n",
       "2            4.7         3.2          1.3         0.2     Iris-setosa   \n",
       "3            4.6         3.1          1.5         0.2     Iris-setosa   \n",
       "4            5.0         3.6          1.4         0.2     Iris-setosa   \n",
       "..           ...         ...          ...         ...             ...   \n",
       "145          6.7         3.0          5.2         2.3  Iris-virginica   \n",
       "146          6.3         2.5          5.0         1.9  Iris-virginica   \n",
       "147          6.5         3.0          5.2         2.0  Iris-virginica   \n",
       "148          6.2         3.4          5.4         2.3  Iris-virginica   \n",
       "149          5.9         3.0          5.1         1.8  Iris-virginica   \n",
       "\n",
       "     class_value  \n",
       "0              0  \n",
       "1              0  \n",
       "2              0  \n",
       "3              0  \n",
       "4              0  \n",
       "..           ...  \n",
       "145            2  \n",
       "146            2  \n",
       "147            2  \n",
       "148            2  \n",
       "149            2  \n",
       "\n",
       "[150 rows x 6 columns]"
      ]
     },
     "execution_count": 4,
     "metadata": {},
     "output_type": "execute_result"
    }
   ],
   "source": [
    "df[\"class_value\"] = df[\"class\"].map({\n",
    "    \"Iris-setosa\":0, \"Iris-versicolor\":1, \"Iris-virginica\":2\n",
    "})\n",
    "df"
   ]
  },
  {
   "cell_type": "code",
   "execution_count": 5,
   "id": "194f5525",
   "metadata": {},
   "outputs": [
    {
     "data": {
      "image/png": "[encoded data removed]",
      "text/plain": [
       "<Figure size 504x504 with 1 Axes>"
      ]
     },
     "metadata": {
      "needs_background": "light"
     },
     "output_type": "display_data"
    }
   ],
   "source": [
    "plt.figure(figsize=(7,7))\n",
    "sns.scatterplot(data=df, x=\"sepallength\", y=\"sepalwidth\", hue=\"class\");"
   ]
  },
  {
   "cell_type": "code",
   "execution_count": 6,
   "id": "4a91b2ff",
   "metadata": {},
   "outputs": [
    {
     "data": {
      "image/png": "[encoded data removed]",
      "text/plain": [
       "<Figure size 504x504 with 1 Axes>"
      ]
     },
     "metadata": {
      "needs_background": "light"
     },
     "output_type": "display_data"
    }
   ],
   "source": [
    "plt.figure(figsize=(7,7))\n",
    "sns.scatterplot(data=df, x=\"petallength\", y=\"petalwidth\", hue=\"class\");"
   ]
  },
  {
   "cell_type": "code",
   "execution_count": 7,
   "id": "f9cdc766",
   "metadata": {},
   "outputs": [
    {
     "data": {
      "text/plain": [
       "<AxesSubplot:>"
      ]
     },
     "execution_count": 7,
     "metadata": {},
     "output_type": "execute_result"
    },
    {
     "data": {
      "image/png": "[encoded data removed]",
      "text/plain": [
       "<Figure size 432x288 with 2 Axes>"
      ]
     },
     "metadata": {
      "needs_background": "light"
     },
     "output_type": "display_data"
    }
   ],
   "source": [
    "# badanie korelacji cech zm. niezależnej\n",
    "sns.heatmap( df.iloc[:, :4].corr() , annot=True)"
   ]
  },
  {
   "cell_type": "code",
   "execution_count": 8,
   "id": "33b5c2e6",
   "metadata": {},
   "outputs": [
    {
     "name": "stdout",
     "output_type": "stream",
     "text": [
      "Requirement already satisfied: mlxtend in /Users/marian/opt/anaconda3/lib/python3.9/site-packages (0.21.0)\n",
      "Requirement already satisfied: scipy>=1.2.1 in /Users/marian/opt/anaconda3/lib/python3.9/site-packages (from mlxtend) (1.7.3)\n",
      "Requirement already satisfied: pandas>=0.24.2 in /Users/marian/opt/anaconda3/lib/python3.9/site-packages (from mlxtend) (1.4.4)\n",
      "Requirement already satisfied: scikit-learn>=1.0.2 in /Users/marian/opt/anaconda3/lib/python3.9/site-packages (from mlxtend) (1.0.2)\n",
      "Requirement already satisfied: numpy>=1.16.2 in /Users/marian/opt/anaconda3/lib/python3.9/site-packages (from mlxtend) (1.23.4)\n",
      "Requirement already satisfied: setuptools in /Users/marian/opt/anaconda3/lib/python3.9/site-packages (from mlxtend) (61.2.0)\n",
      "Requirement already satisfied: matplotlib>=3.0.0 in /Users/marian/opt/anaconda3/lib/python3.9/site-packages (from mlxtend) (3.5.1)\n",
      "Requirement already satisfied: joblib>=0.13.2 in /Users/marian/opt/anaconda3/lib/python3.9/site-packages (from mlxtend) (1.1.0)\n",
      "Requirement already satisfied: python-dateutil>=2.7 in /Users/marian/opt/anaconda3/lib/python3.9/site-packages (from matplotlib>=3.0.0->mlxtend) (2.8.2)\n",
      "Requirement already satisfied: pyparsing>=2.2.1 in /Users/marian/opt/anaconda3/lib/python3.9/site-packages (from matplotlib>=3.0.0->mlxtend) (3.0.4)\n",
      "Requirement already satisfied: fonttools>=4.22.0 in /Users/marian/opt/anaconda3/lib/python3.9/site-packages (from matplotlib>=3.0.0->mlxtend) (4.25.0)\n",
      "Requirement already satisfied: pillow>=6.2.0 in /Users/marian/opt/anaconda3/lib/python3.9/site-packages (from matplotlib>=3.0.0->mlxtend) (9.0.1)\n",
      "Requirement already satisfied: cycler>=0.10 in /Users/marian/opt/anaconda3/lib/python3.9/site-packages (from matplotlib>=3.0.0->mlxtend) (0.11.0)\n",
      "Requirement already satisfied: packaging>=20.0 in /Users/marian/opt/anaconda3/lib/python3.9/site-packages (from matplotlib>=3.0.0->mlxtend) (21.3)\n",
      "Requirement already satisfied: kiwisolver>=1.0.1 in /Users/marian/opt/anaconda3/lib/python3.9/site-packages (from matplotlib>=3.0.0->mlxtend) (1.3.2)\n",
      "Requirement already satisfied: pytz>=2020.1 in /Users/marian/opt/anaconda3/lib/python3.9/site-packages (from pandas>=0.24.2->mlxtend) (2021.3)\n",
      "Requirement already satisfied: six>=1.5 in /Users/marian/opt/anaconda3/lib/python3.9/site-packages (from python-dateutil>=2.7->matplotlib>=3.0.0->mlxtend) (1.16.0)\n",
      "Requirement already satisfied: threadpoolctl>=2.0.0 in /Users/marian/opt/anaconda3/lib/python3.9/site-packages (from scikit-learn>=1.0.2->mlxtend) (2.2.0)\n",
      "Collecting numpy>=1.16.2\n",
      "  Downloading numpy-1.22.4-cp39-cp39-macosx_10_15_x86_64.whl (17.7 MB)\n",
      "\u001b[K     |████████████████████████████████| 17.7 MB 1.8 MB/s eta 0:00:01\n",
      "\u001b[?25hInstalling collected packages: numpy\n",
      "  Attempting uninstall: numpy\n",
      "    Found existing installation: numpy 1.23.4\n",
      "    Uninstalling numpy-1.23.4:\n",
      "      Successfully uninstalled numpy-1.23.4\n",
      "\u001b[31mERROR: pip's dependency resolver does not currently take into account all the packages that are installed. This behaviour is the source of the following dependency conflicts.\n",
      "daal4py 2021.5.0 requires daal==2021.4.0, which is not installed.\n",
      "numba 0.55.1 requires numpy<1.22,>=1.18, but you have numpy 1.22.4 which is incompatible.\u001b[0m\n",
      "Successfully installed numpy-1.22.4\n",
      "Requirement already satisfied: dtreeplt in /Users/marian/opt/anaconda3/lib/python3.9/site-packages (0.1.43)\n",
      "Requirement already satisfied: matplotlib>=3.0.2 in /Users/marian/opt/anaconda3/lib/python3.9/site-packages (from dtreeplt) (3.5.1)\n",
      "Requirement already satisfied: ipython>=7.2.0 in /Users/marian/opt/anaconda3/lib/python3.9/site-packages (from dtreeplt) (8.2.0)\n",
      "Requirement already satisfied: scikit-learn>=0.20.2 in /Users/marian/opt/anaconda3/lib/python3.9/site-packages (from dtreeplt) (1.0.2)\n",
      "Requirement already satisfied: ipywidgets>=7.4.2 in /Users/marian/opt/anaconda3/lib/python3.9/site-packages (from dtreeplt) (7.6.5)\n",
      "Requirement already satisfied: numpy>=1.15.1 in /Users/marian/opt/anaconda3/lib/python3.9/site-packages (from dtreeplt) (1.22.4)\n",
      "Requirement already satisfied: pickleshare in /Users/marian/opt/anaconda3/lib/python3.9/site-packages (from ipython>=7.2.0->dtreeplt) (0.7.5)\n",
      "Requirement already satisfied: matplotlib-inline in /Users/marian/opt/anaconda3/lib/python3.9/site-packages (from ipython>=7.2.0->dtreeplt) (0.1.2)\n",
      "Requirement already satisfied: backcall in /Users/marian/opt/anaconda3/lib/python3.9/site-packages (from ipython>=7.2.0->dtreeplt) (0.2.0)\n",
      "Requirement already satisfied: pexpect>4.3 in /Users/marian/opt/anaconda3/lib/python3.9/site-packages (from ipython>=7.2.0->dtreeplt) (4.8.0)\n",
      "Requirement already satisfied: pygments>=2.4.0 in /Users/marian/opt/anaconda3/lib/python3.9/site-packages (from ipython>=7.2.0->dtreeplt) (2.11.2)\n",
      "Requirement already satisfied: jedi>=0.16 in /Users/marian/opt/anaconda3/lib/python3.9/site-packages (from ipython>=7.2.0->dtreeplt) (0.18.1)\n",
      "Requirement already satisfied: prompt-toolkit!=3.0.0,!=3.0.1,<3.1.0,>=2.0.0 in /Users/marian/opt/anaconda3/lib/python3.9/site-packages (from ipython>=7.2.0->dtreeplt) (3.0.20)\n",
      "Requirement already satisfied: decorator in /Users/marian/opt/anaconda3/lib/python3.9/site-packages (from ipython>=7.2.0->dtreeplt) (5.1.1)\n",
      "Requirement already satisfied: traitlets>=5 in /Users/marian/opt/anaconda3/lib/python3.9/site-packages (from ipython>=7.2.0->dtreeplt) (5.1.1)\n",
      "Requirement already satisfied: setuptools>=18.5 in /Users/marian/opt/anaconda3/lib/python3.9/site-packages (from ipython>=7.2.0->dtreeplt) (61.2.0)\n",
      "Requirement already satisfied: appnope in /Users/marian/opt/anaconda3/lib/python3.9/site-packages (from ipython>=7.2.0->dtreeplt) (0.1.2)\n",
      "Requirement already satisfied: stack-data in /Users/marian/opt/anaconda3/lib/python3.9/site-packages (from ipython>=7.2.0->dtreeplt) (0.2.0)\n",
      "Requirement already satisfied: ipython-genutils~=0.2.0 in /Users/marian/opt/anaconda3/lib/python3.9/site-packages (from ipywidgets>=7.4.2->dtreeplt) (0.2.0)\n",
      "Requirement already satisfied: ipykernel>=4.5.1 in /Users/marian/opt/anaconda3/lib/python3.9/site-packages (from ipywidgets>=7.4.2->dtreeplt) (6.9.1)\n",
      "Requirement already satisfied: jupyterlab-widgets>=1.0.0 in /Users/marian/opt/anaconda3/lib/python3.9/site-packages (from ipywidgets>=7.4.2->dtreeplt) (1.0.0)\n",
      "Requirement already satisfied: widgetsnbextension~=3.5.0 in /Users/marian/opt/anaconda3/lib/python3.9/site-packages (from ipywidgets>=7.4.2->dtreeplt) (3.5.2)\n",
      "Requirement already satisfied: nbformat>=4.2.0 in /Users/marian/opt/anaconda3/lib/python3.9/site-packages (from ipywidgets>=7.4.2->dtreeplt) (5.3.0)\n",
      "Requirement already satisfied: nest-asyncio in /Users/marian/opt/anaconda3/lib/python3.9/site-packages (from ipykernel>=4.5.1->ipywidgets>=7.4.2->dtreeplt) (1.5.5)\n",
      "Requirement already satisfied: debugpy<2.0,>=1.0.0 in /Users/marian/opt/anaconda3/lib/python3.9/site-packages (from ipykernel>=4.5.1->ipywidgets>=7.4.2->dtreeplt) (1.5.1)\n",
      "Requirement already satisfied: jupyter-client<8.0 in /Users/marian/opt/anaconda3/lib/python3.9/site-packages (from ipykernel>=4.5.1->ipywidgets>=7.4.2->dtreeplt) (6.1.12)\n",
      "Requirement already satisfied: tornado<7.0,>=4.2 in /Users/marian/opt/anaconda3/lib/python3.9/site-packages (from ipykernel>=4.5.1->ipywidgets>=7.4.2->dtreeplt) (6.1)\n",
      "Requirement already satisfied: parso<0.9.0,>=0.8.0 in /Users/marian/opt/anaconda3/lib/python3.9/site-packages (from jedi>=0.16->ipython>=7.2.0->dtreeplt) (0.8.3)\n",
      "Requirement already satisfied: python-dateutil>=2.1 in /Users/marian/opt/anaconda3/lib/python3.9/site-packages (from jupyter-client<8.0->ipykernel>=4.5.1->ipywidgets>=7.4.2->dtreeplt) (2.8.2)\n",
      "Requirement already satisfied: jupyter-core>=4.6.0 in /Users/marian/opt/anaconda3/lib/python3.9/site-packages (from jupyter-client<8.0->ipykernel>=4.5.1->ipywidgets>=7.4.2->dtreeplt) (4.9.2)\n",
      "Requirement already satisfied: pyzmq>=13 in /Users/marian/opt/anaconda3/lib/python3.9/site-packages (from jupyter-client<8.0->ipykernel>=4.5.1->ipywidgets>=7.4.2->dtreeplt) (24.0.1)\n",
      "Requirement already satisfied: cycler>=0.10 in /Users/marian/opt/anaconda3/lib/python3.9/site-packages (from matplotlib>=3.0.2->dtreeplt) (0.11.0)\n",
      "Requirement already satisfied: fonttools>=4.22.0 in /Users/marian/opt/anaconda3/lib/python3.9/site-packages (from matplotlib>=3.0.2->dtreeplt) (4.25.0)\n",
      "Requirement already satisfied: pyparsing>=2.2.1 in /Users/marian/opt/anaconda3/lib/python3.9/site-packages (from matplotlib>=3.0.2->dtreeplt) (3.0.4)\n",
      "Requirement already satisfied: kiwisolver>=1.0.1 in /Users/marian/opt/anaconda3/lib/python3.9/site-packages (from matplotlib>=3.0.2->dtreeplt) (1.3.2)\n",
      "Requirement already satisfied: packaging>=20.0 in /Users/marian/opt/anaconda3/lib/python3.9/site-packages (from matplotlib>=3.0.2->dtreeplt) (21.3)\n",
      "Requirement already satisfied: pillow>=6.2.0 in /Users/marian/opt/anaconda3/lib/python3.9/site-packages (from matplotlib>=3.0.2->dtreeplt) (9.0.1)\n",
      "Requirement already satisfied: jsonschema>=2.6 in /Users/marian/opt/anaconda3/lib/python3.9/site-packages (from nbformat>=4.2.0->ipywidgets>=7.4.2->dtreeplt) (4.4.0)\n",
      "Requirement already satisfied: fastjsonschema in /Users/marian/opt/anaconda3/lib/python3.9/site-packages (from nbformat>=4.2.0->ipywidgets>=7.4.2->dtreeplt) (2.15.1)\n",
      "Requirement already satisfied: pyrsistent!=0.17.0,!=0.17.1,!=0.17.2,>=0.14.0 in /Users/marian/opt/anaconda3/lib/python3.9/site-packages (from jsonschema>=2.6->nbformat>=4.2.0->ipywidgets>=7.4.2->dtreeplt) (0.18.0)\n"
     ]
    },
    {
     "name": "stdout",
     "output_type": "stream",
     "text": [
      "Requirement already satisfied: attrs>=17.4.0 in /Users/marian/opt/anaconda3/lib/python3.9/site-packages (from jsonschema>=2.6->nbformat>=4.2.0->ipywidgets>=7.4.2->dtreeplt) (21.4.0)\n",
      "Requirement already satisfied: ptyprocess>=0.5 in /Users/marian/opt/anaconda3/lib/python3.9/site-packages (from pexpect>4.3->ipython>=7.2.0->dtreeplt) (0.7.0)\n",
      "Requirement already satisfied: wcwidth in /Users/marian/opt/anaconda3/lib/python3.9/site-packages (from prompt-toolkit!=3.0.0,!=3.0.1,<3.1.0,>=2.0.0->ipython>=7.2.0->dtreeplt) (0.2.5)\n",
      "Requirement already satisfied: six>=1.5 in /Users/marian/opt/anaconda3/lib/python3.9/site-packages (from python-dateutil>=2.1->jupyter-client<8.0->ipykernel>=4.5.1->ipywidgets>=7.4.2->dtreeplt) (1.16.0)\n",
      "Requirement already satisfied: threadpoolctl>=2.0.0 in /Users/marian/opt/anaconda3/lib/python3.9/site-packages (from scikit-learn>=0.20.2->dtreeplt) (2.2.0)\n",
      "Requirement already satisfied: joblib>=0.11 in /Users/marian/opt/anaconda3/lib/python3.9/site-packages (from scikit-learn>=0.20.2->dtreeplt) (1.1.0)\n",
      "Requirement already satisfied: scipy>=1.1.0 in /Users/marian/opt/anaconda3/lib/python3.9/site-packages (from scikit-learn>=0.20.2->dtreeplt) (1.7.3)\n",
      "Requirement already satisfied: notebook>=4.4.1 in /Users/marian/opt/anaconda3/lib/python3.9/site-packages (from widgetsnbextension~=3.5.0->ipywidgets>=7.4.2->dtreeplt) (6.4.8)\n",
      "Requirement already satisfied: jinja2 in /Users/marian/opt/anaconda3/lib/python3.9/site-packages (from notebook>=4.4.1->widgetsnbextension~=3.5.0->ipywidgets>=7.4.2->dtreeplt) (2.11.3)\n",
      "Requirement already satisfied: terminado>=0.8.3 in /Users/marian/opt/anaconda3/lib/python3.9/site-packages (from notebook>=4.4.1->widgetsnbextension~=3.5.0->ipywidgets>=7.4.2->dtreeplt) (0.13.1)\n",
      "Requirement already satisfied: prometheus-client in /Users/marian/opt/anaconda3/lib/python3.9/site-packages (from notebook>=4.4.1->widgetsnbextension~=3.5.0->ipywidgets>=7.4.2->dtreeplt) (0.13.1)\n",
      "Requirement already satisfied: Send2Trash>=1.8.0 in /Users/marian/opt/anaconda3/lib/python3.9/site-packages (from notebook>=4.4.1->widgetsnbextension~=3.5.0->ipywidgets>=7.4.2->dtreeplt) (1.8.0)\n",
      "Requirement already satisfied: argon2-cffi in /Users/marian/opt/anaconda3/lib/python3.9/site-packages (from notebook>=4.4.1->widgetsnbextension~=3.5.0->ipywidgets>=7.4.2->dtreeplt) (21.3.0)\n",
      "Requirement already satisfied: nbconvert in /Users/marian/opt/anaconda3/lib/python3.9/site-packages (from notebook>=4.4.1->widgetsnbextension~=3.5.0->ipywidgets>=7.4.2->dtreeplt) (6.4.4)\n",
      "Requirement already satisfied: argon2-cffi-bindings in /Users/marian/opt/anaconda3/lib/python3.9/site-packages (from argon2-cffi->notebook>=4.4.1->widgetsnbextension~=3.5.0->ipywidgets>=7.4.2->dtreeplt) (21.2.0)\n",
      "Requirement already satisfied: cffi>=1.0.1 in /Users/marian/opt/anaconda3/lib/python3.9/site-packages (from argon2-cffi-bindings->argon2-cffi->notebook>=4.4.1->widgetsnbextension~=3.5.0->ipywidgets>=7.4.2->dtreeplt) (1.15.0)\n",
      "Requirement already satisfied: pycparser in /Users/marian/opt/anaconda3/lib/python3.9/site-packages (from cffi>=1.0.1->argon2-cffi-bindings->argon2-cffi->notebook>=4.4.1->widgetsnbextension~=3.5.0->ipywidgets>=7.4.2->dtreeplt) (2.21)\n",
      "Requirement already satisfied: MarkupSafe>=0.23 in /Users/marian/opt/anaconda3/lib/python3.9/site-packages (from jinja2->notebook>=4.4.1->widgetsnbextension~=3.5.0->ipywidgets>=7.4.2->dtreeplt) (2.0.1)\n",
      "Requirement already satisfied: jupyterlab-pygments in /Users/marian/opt/anaconda3/lib/python3.9/site-packages (from nbconvert->notebook>=4.4.1->widgetsnbextension~=3.5.0->ipywidgets>=7.4.2->dtreeplt) (0.1.2)\n",
      "Requirement already satisfied: mistune<2,>=0.8.1 in /Users/marian/opt/anaconda3/lib/python3.9/site-packages (from nbconvert->notebook>=4.4.1->widgetsnbextension~=3.5.0->ipywidgets>=7.4.2->dtreeplt) (0.8.4)\n",
      "Requirement already satisfied: entrypoints>=0.2.2 in /Users/marian/opt/anaconda3/lib/python3.9/site-packages (from nbconvert->notebook>=4.4.1->widgetsnbextension~=3.5.0->ipywidgets>=7.4.2->dtreeplt) (0.4)\n",
      "Requirement already satisfied: nbclient<0.6.0,>=0.5.0 in /Users/marian/opt/anaconda3/lib/python3.9/site-packages (from nbconvert->notebook>=4.4.1->widgetsnbextension~=3.5.0->ipywidgets>=7.4.2->dtreeplt) (0.5.13)\n",
      "Requirement already satisfied: defusedxml in /Users/marian/opt/anaconda3/lib/python3.9/site-packages (from nbconvert->notebook>=4.4.1->widgetsnbextension~=3.5.0->ipywidgets>=7.4.2->dtreeplt) (0.7.1)\n",
      "Requirement already satisfied: bleach in /Users/marian/opt/anaconda3/lib/python3.9/site-packages (from nbconvert->notebook>=4.4.1->widgetsnbextension~=3.5.0->ipywidgets>=7.4.2->dtreeplt) (4.1.0)\n",
      "Requirement already satisfied: testpath in /Users/marian/opt/anaconda3/lib/python3.9/site-packages (from nbconvert->notebook>=4.4.1->widgetsnbextension~=3.5.0->ipywidgets>=7.4.2->dtreeplt) (0.5.0)\n",
      "Requirement already satisfied: beautifulsoup4 in /Users/marian/opt/anaconda3/lib/python3.9/site-packages (from nbconvert->notebook>=4.4.1->widgetsnbextension~=3.5.0->ipywidgets>=7.4.2->dtreeplt) (4.11.1)\n",
      "Requirement already satisfied: pandocfilters>=1.4.1 in /Users/marian/opt/anaconda3/lib/python3.9/site-packages (from nbconvert->notebook>=4.4.1->widgetsnbextension~=3.5.0->ipywidgets>=7.4.2->dtreeplt) (1.5.0)\n",
      "Requirement already satisfied: soupsieve>1.2 in /Users/marian/opt/anaconda3/lib/python3.9/site-packages (from beautifulsoup4->nbconvert->notebook>=4.4.1->widgetsnbextension~=3.5.0->ipywidgets>=7.4.2->dtreeplt) (2.3.1)\n",
      "Requirement already satisfied: webencodings in /Users/marian/opt/anaconda3/lib/python3.9/site-packages (from bleach->nbconvert->notebook>=4.4.1->widgetsnbextension~=3.5.0->ipywidgets>=7.4.2->dtreeplt) (0.5.1)\n",
      "Requirement already satisfied: asttokens in /Users/marian/opt/anaconda3/lib/python3.9/site-packages (from stack-data->ipython>=7.2.0->dtreeplt) (2.0.5)\n",
      "Requirement already satisfied: executing in /Users/marian/opt/anaconda3/lib/python3.9/site-packages (from stack-data->ipython>=7.2.0->dtreeplt) (0.8.3)\n",
      "Requirement already satisfied: pure-eval in /Users/marian/opt/anaconda3/lib/python3.9/site-packages (from stack-data->ipython>=7.2.0->dtreeplt) (0.2.2)\n"
     ]
    }
   ],
   "source": [
    "!pip install mlxtend\n",
    "!pip install dtreeplt"
   ]
  },
  {
   "cell_type": "code",
   "execution_count": 9,
   "id": "9d404a50",
   "metadata": {},
   "outputs": [],
   "source": [
    "from sklearn.tree import DecisionTreeClassifier\n",
    "from mlxtend.plotting import plot_decision_regions\n",
    "from dtreeplt import dtreeplt"
   ]
  },
  {
   "cell_type": "code",
   "execution_count": 10,
   "id": "7be4f032",
   "metadata": {},
   "outputs": [],
   "source": [
    "#X = df[ [\"sepallength\",\"sepalwidth\"] ]\n",
    "X = df[ [\"petallength\",\"petalwidth\"] ]\n",
    "y = df.class_value"
   ]
  },
  {
   "cell_type": "code",
   "execution_count": 11,
   "id": "638336d2",
   "metadata": {},
   "outputs": [
    {
     "data": {
      "text/plain": [
       "DecisionTreeClassifier(max_depth=11, random_state=0)"
      ]
     },
     "execution_count": 11,
     "metadata": {},
     "output_type": "execute_result"
    }
   ],
   "source": [
    "model = DecisionTreeClassifier(max_depth=11, random_state=0)\n",
    "model.fit(X, y)"
   ]
  },
  {
   "cell_type": "code",
   "execution_count": 12,
   "id": "25d97378",
   "metadata": {},
   "outputs": [
    {
     "name": "stderr",
     "output_type": "stream",
     "text": [
      "/Users/marian/opt/anaconda3/lib/python3.9/site-packages/sklearn/base.py:450: UserWarning: X does not have valid feature names, but DecisionTreeClassifier was fitted with feature names\n",
      "  warnings.warn(\n"
     ]
    },
    {
     "data": {
      "text/plain": [
       "<AxesSubplot:>"
      ]
     },
     "execution_count": 12,
     "metadata": {},
     "output_type": "execute_result"
    },
    {
     "data": {
      "image/png": "[encoded data removed]",
      "text/plain": [
       "<Figure size 504x504 with 1 Axes>"
      ]
     },
     "metadata": {
      "needs_background": "light"
     },
     "output_type": "display_data"
    }
   ],
   "source": [
    "plt.figure(figsize=(7,7))\n",
    "plot_decision_regions(X.values, y.values, model)"
   ]
  },
  {
   "cell_type": "code",
   "execution_count": 13,
   "id": "f25701a5",
   "metadata": {},
   "outputs": [
    {
     "ename": "TypeError",
     "evalue": "annotate() missing 1 required positional argument: 'text'",
     "output_type": "error",
     "traceback": [
      "\u001b[0;31m---------------------------------------------------------------------------\u001b[0m",
      "\u001b[0;31mTypeError\u001b[0m                                 Traceback (most recent call last)",
      "Input \u001b[0;32mIn [13]\u001b[0m, in \u001b[0;36m<cell line: 2>\u001b[0;34m()\u001b[0m\n\u001b[1;32m      1\u001b[0m plt\u001b[38;5;241m.\u001b[39mfigure(figsize\u001b[38;5;241m=\u001b[39m(\u001b[38;5;241m14\u001b[39m,\u001b[38;5;241m8\u001b[39m))\n\u001b[0;32m----> 2\u001b[0m \u001b[43mdtreeplt\u001b[49m\u001b[43m(\u001b[49m\u001b[43mmodel\u001b[49m\u001b[43m,\u001b[49m\u001b[43m \u001b[49m\u001b[43mfeature_names\u001b[49m\u001b[38;5;241;43m=\u001b[39;49m\u001b[43mX\u001b[49m\u001b[38;5;241;43m.\u001b[39;49m\u001b[43mcolumns\u001b[49m\u001b[43m,\u001b[49m\u001b[43m \u001b[49m\u001b[43mtarget_names\u001b[49m\u001b[38;5;241;43m=\u001b[39;49m\u001b[43m[\u001b[49m\u001b[38;5;124;43m\"\u001b[39;49m\u001b[38;5;124;43msetosa\u001b[39;49m\u001b[38;5;124;43m\"\u001b[39;49m\u001b[43m,\u001b[49m\u001b[38;5;124;43m\"\u001b[39;49m\u001b[38;5;124;43mversicolor\u001b[39;49m\u001b[38;5;124;43m\"\u001b[39;49m\u001b[43m,\u001b[49m\u001b[38;5;124;43m\"\u001b[39;49m\u001b[38;5;124;43mvirginica\u001b[39;49m\u001b[38;5;124;43m\"\u001b[39;49m\u001b[43m]\u001b[49m\u001b[43m)\u001b[49m\u001b[38;5;241;43m.\u001b[39;49m\u001b[43mview\u001b[49m\u001b[43m(\u001b[49m\u001b[43m)\u001b[49m;\n\u001b[1;32m      3\u001b[0m plt\u001b[38;5;241m.\u001b[39msavefig(\u001b[38;5;124m\"\u001b[39m\u001b[38;5;124mdt.png\u001b[39m\u001b[38;5;124m\"\u001b[39m, dpi\u001b[38;5;241m=\u001b[39m\u001b[38;5;241m150\u001b[39m)\n",
      "File \u001b[0;32m~/opt/anaconda3/lib/python3.9/site-packages/dtreeplt/dtreeplt.py:286\u001b[0m, in \u001b[0;36mdtreeplt.view\u001b[0;34m(self, interactive)\u001b[0m\n\u001b[1;32m    283\u001b[0m     \u001b[38;5;28;01mreturn\u001b[39;00m it\u001b[38;5;241m.\u001b[39mview_interactive(\u001b[38;5;28mself\u001b[39m\u001b[38;5;241m.\u001b[39mfeature_names, \u001b[38;5;28mself\u001b[39m\u001b[38;5;241m.\u001b[39mtarget_names, \u001b[38;5;28mself\u001b[39m\u001b[38;5;241m.\u001b[39mX, \u001b[38;5;28mself\u001b[39m\u001b[38;5;241m.\u001b[39my, \u001b[38;5;28mself\u001b[39m\u001b[38;5;241m.\u001b[39mmodel, \u001b[38;5;28mself\u001b[39m\u001b[38;5;241m.\u001b[39meval)\n\u001b[1;32m    285\u001b[0m \u001b[38;5;28;01melse\u001b[39;00m:\n\u001b[0;32m--> 286\u001b[0m     fig \u001b[38;5;241m=\u001b[39m \u001b[38;5;28;43mself\u001b[39;49m\u001b[38;5;241;43m.\u001b[39;49m\u001b[43mdraw_figure\u001b[49m\u001b[43m(\u001b[49m\u001b[43mx_dict\u001b[49m\u001b[43m,\u001b[49m\u001b[43m \u001b[49m\u001b[43mtree_info_dict\u001b[49m\u001b[43m)\u001b[49m\n\u001b[1;32m    287\u001b[0m     \u001b[38;5;28;01mreturn\u001b[39;00m fig\n",
      "File \u001b[0;32m~/opt/anaconda3/lib/python3.9/site-packages/dtreeplt/dtreeplt.py:256\u001b[0m, in \u001b[0;36mdtreeplt.draw_figure\u001b[0;34m(self, x_dict, tree_info_dict)\u001b[0m\n\u001b[1;32m    254\u001b[0m     dx \u001b[38;5;241m=\u001b[39m x_dict[link[\u001b[38;5;124m'\u001b[39m\u001b[38;5;124mtarget\u001b[39m\u001b[38;5;124m'\u001b[39m]] \u001b[38;5;241m+\u001b[39m rect_width \u001b[38;5;241m/\u001b[39m \u001b[38;5;241m2\u001b[39m\n\u001b[1;32m    255\u001b[0m     dy \u001b[38;5;241m=\u001b[39m tree_info_dict[\u001b[38;5;124m'\u001b[39m\u001b[38;5;124mnodes_height\u001b[39m\u001b[38;5;124m'\u001b[39m][link[\u001b[38;5;124m'\u001b[39m\u001b[38;5;124mtarget\u001b[39m\u001b[38;5;124m'\u001b[39m]] \u001b[38;5;241m+\u001b[39m rect_height\n\u001b[0;32m--> 256\u001b[0m     \u001b[43max\u001b[49m\u001b[38;5;241;43m.\u001b[39;49m\u001b[43mannotate\u001b[49m\u001b[43m(\u001b[49m\u001b[43ms\u001b[49m\u001b[38;5;241;43m=\u001b[39;49m\u001b[38;5;124;43m'\u001b[39;49m\u001b[38;5;124;43m'\u001b[39;49m\u001b[43m,\u001b[49m\u001b[43m \u001b[49m\u001b[43mxy\u001b[49m\u001b[38;5;241;43m=\u001b[39;49m\u001b[43m(\u001b[49m\u001b[43mdx\u001b[49m\u001b[43m,\u001b[49m\u001b[43m \u001b[49m\u001b[43mdy\u001b[49m\u001b[43m)\u001b[49m\u001b[43m,\u001b[49m\u001b[43m \u001b[49m\u001b[43mxytext\u001b[49m\u001b[38;5;241;43m=\u001b[39;49m\u001b[43m(\u001b[49m\u001b[43mx\u001b[49m\u001b[43m,\u001b[49m\u001b[43m \u001b[49m\u001b[43my\u001b[49m\u001b[43m)\u001b[49m\u001b[43m,\u001b[49m\n\u001b[1;32m    257\u001b[0m \u001b[43m                \u001b[49m\u001b[43mxycoords\u001b[49m\u001b[38;5;241;43m=\u001b[39;49m\u001b[38;5;124;43m'\u001b[39;49m\u001b[38;5;124;43mdata\u001b[39;49m\u001b[38;5;124;43m'\u001b[39;49m\u001b[43m,\u001b[49m\n\u001b[1;32m    258\u001b[0m \u001b[43m                \u001b[49m\u001b[43marrowprops\u001b[49m\u001b[38;5;241;43m=\u001b[39;49m\u001b[38;5;28;43mdict\u001b[39;49m\u001b[43m(\u001b[49m\u001b[43marrowstyle\u001b[49m\u001b[38;5;241;43m=\u001b[39;49m\u001b[38;5;124;43m'\u001b[39;49m\u001b[38;5;124;43m->\u001b[39;49m\u001b[38;5;124;43m'\u001b[39;49m\u001b[43m)\u001b[49m\n\u001b[1;32m    259\u001b[0m \u001b[43m                \u001b[49m\u001b[43m)\u001b[49m\n\u001b[1;32m    261\u001b[0m ax\u001b[38;5;241m.\u001b[39mset_xlim(\u001b[38;5;28mmin\u001b[39m(x_dict\u001b[38;5;241m.\u001b[39mvalues()), \u001b[38;5;28mmax\u001b[39m(x_dict\u001b[38;5;241m.\u001b[39mvalues()) \u001b[38;5;241m+\u001b[39m rect_width)\n\u001b[1;32m    262\u001b[0m _ \u001b[38;5;241m=\u001b[39m ax\u001b[38;5;241m.\u001b[39mset_ylim(\u001b[38;5;28mmin\u001b[39m(tree_info_dict[\u001b[38;5;124m'\u001b[39m\u001b[38;5;124mnodes_height\u001b[39m\u001b[38;5;124m'\u001b[39m]), \u001b[38;5;28mmax\u001b[39m(tree_info_dict[\u001b[38;5;124m'\u001b[39m\u001b[38;5;124mnodes_height\u001b[39m\u001b[38;5;124m'\u001b[39m]) \u001b[38;5;241m+\u001b[39m rect_height)\n",
      "\u001b[0;31mTypeError\u001b[0m: annotate() missing 1 required positional argument: 'text'"
     ]
    },
    {
     "data": {
      "text/plain": [
       "<Figure size 1008x576 with 0 Axes>"
      ]
     },
     "metadata": {},
     "output_type": "display_data"
    },
    {
     "data": {
      "image/png": "[encoded data removed]",
      "text/plain": [
       "<Figure size 2073.6x1800 with 1 Axes>"
      ]
     },
     "metadata": {},
     "output_type": "display_data"
    }
   ],
   "source": [
    "plt.figure(figsize=(14,8))\n",
    "dtreeplt(model, feature_names=X.columns, target_names=[\"setosa\",\"versicolor\",\"virginica\"]).view();\n",
    "plt.savefig(\"dt.png\", dpi=150)"
   ]
  },
  {
   "cell_type": "code",
   "execution_count": 14,
   "id": "2ef940df",
   "metadata": {},
   "outputs": [],
   "source": [
    "from sklearn.model_selection import train_test_split\n",
    "from sklearn.metrics import confusion_matrix"
   ]
  },
  {
   "cell_type": "code",
   "execution_count": 15,
   "id": "66ef9ab0",
   "metadata": {},
   "outputs": [
    {
     "name": "stdout",
     "output_type": "stream",
     "text": [
      "TEST 0.8571428571428571\n",
      "TRAIN 0.9250814332247557\n"
     ]
    },
    {
     "data": {
      "text/html": [
       "<div>\n",
       "<style scoped>\n",
       "    .dataframe tbody tr th:only-of-type {\n",
       "        vertical-align: middle;\n",
       "    }\n",
       "\n",
       "    .dataframe tbody tr th {\n",
       "        vertical-align: top;\n",
       "    }\n",
       "\n",
       "    .dataframe thead th {\n",
       "        text-align: right;\n",
       "    }\n",
       "</style>\n",
       "<table border=\"1\" class=\"dataframe\">\n",
       "  <thead>\n",
       "    <tr style=\"text-align: right;\">\n",
       "      <th></th>\n",
       "      <th>0</th>\n",
       "      <th>1</th>\n",
       "    </tr>\n",
       "  </thead>\n",
       "  <tbody>\n",
       "    <tr>\n",
       "      <th>0</th>\n",
       "      <td>181</td>\n",
       "      <td>32</td>\n",
       "    </tr>\n",
       "    <tr>\n",
       "      <th>1</th>\n",
       "      <td>12</td>\n",
       "      <td>83</td>\n",
       "    </tr>\n",
       "  </tbody>\n",
       "</table>\n",
       "</div>"
      ],
      "text/plain": [
       "     0   1\n",
       "0  181  32\n",
       "1   12  83"
      ]
     },
     "execution_count": 15,
     "metadata": {},
     "output_type": "execute_result"
    }
   ],
   "source": [
    "# Porównanie z regresją logistyczną\n",
    "df = pd.read_csv(\"cukrzyca.csv\")\n",
    "\n",
    "X = df.iloc[:, :-1]\n",
    "y = df.outcome\n",
    "\n",
    "X_train, X_test, y_train, y_test = train_test_split(X, y, test_size=0.2, random_state=0)\n",
    "\n",
    "\n",
    "model = DecisionTreeClassifier(max_depth=8, random_state=0)\n",
    "model.fit(X_train, y_train)\n",
    "print(\"TEST\",model.score(X_test, y_test))\n",
    "print(\"TRAIN\",model.score(X_train, y_train))\n",
    "\n",
    "y_pred = model.predict(X_test)\n",
    "pd.DataFrame( confusion_matrix(y_test, y_pred) )"
   ]
  },
  {
   "cell_type": "code",
   "execution_count": 51,
   "id": "d90a28ba",
   "metadata": {},
   "outputs": [
    {
     "data": {
      "text/html": [
       "<div>\n",
       "<style scoped>\n",
       "    .dataframe tbody tr th:only-of-type {\n",
       "        vertical-align: middle;\n",
       "    }\n",
       "\n",
       "    .dataframe tbody tr th {\n",
       "        vertical-align: top;\n",
       "    }\n",
       "\n",
       "    .dataframe thead th {\n",
       "        text-align: right;\n",
       "    }\n",
       "</style>\n",
       "<table border=\"1\" class=\"dataframe\">\n",
       "  <thead>\n",
       "    <tr style=\"text-align: right;\">\n",
       "      <th></th>\n",
       "      <th>0</th>\n",
       "    </tr>\n",
       "  </thead>\n",
       "  <tbody>\n",
       "    <tr>\n",
       "      <th>glucose</th>\n",
       "      <td>0.335413</td>\n",
       "    </tr>\n",
       "    <tr>\n",
       "      <th>bmi</th>\n",
       "      <td>0.192348</td>\n",
       "    </tr>\n",
       "    <tr>\n",
       "      <th>diabetespedigreefunction</th>\n",
       "      <td>0.130975</td>\n",
       "    </tr>\n",
       "    <tr>\n",
       "      <th>age</th>\n",
       "      <td>0.120578</td>\n",
       "    </tr>\n",
       "    <tr>\n",
       "      <th>insulin</th>\n",
       "      <td>0.115898</td>\n",
       "    </tr>\n",
       "    <tr>\n",
       "      <th>bloodpressure</th>\n",
       "      <td>0.055297</td>\n",
       "    </tr>\n",
       "    <tr>\n",
       "      <th>pregnancies</th>\n",
       "      <td>0.031259</td>\n",
       "    </tr>\n",
       "    <tr>\n",
       "      <th>skinthickness</th>\n",
       "      <td>0.018233</td>\n",
       "    </tr>\n",
       "  </tbody>\n",
       "</table>\n",
       "</div>"
      ],
      "text/plain": [
       "                                 0\n",
       "glucose                   0.335413\n",
       "bmi                       0.192348\n",
       "diabetespedigreefunction  0.130975\n",
       "age                       0.120578\n",
       "insulin                   0.115898\n",
       "bloodpressure             0.055297\n",
       "pregnancies               0.031259\n",
       "skinthickness             0.018233"
      ]
     },
     "execution_count": 51,
     "metadata": {},
     "output_type": "execute_result"
    }
   ],
   "source": [
    "pd.DataFrame( model.feature_importances_ , index=X.columns).sort_values(0, ascending=False)"
   ]
  },
  {
   "cell_type": "code",
   "execution_count": 47,
   "id": "fac97c87",
   "metadata": {},
   "outputs": [
    {
     "data": {
      "text/html": [
       "<div>\n",
       "<style scoped>\n",
       "    .dataframe tbody tr th:only-of-type {\n",
       "        vertical-align: middle;\n",
       "    }\n",
       "\n",
       "    .dataframe tbody tr th {\n",
       "        vertical-align: top;\n",
       "    }\n",
       "\n",
       "    .dataframe thead th {\n",
       "        text-align: right;\n",
       "    }\n",
       "</style>\n",
       "<table border=\"1\" class=\"dataframe\">\n",
       "  <thead>\n",
       "    <tr style=\"text-align: right;\">\n",
       "      <th></th>\n",
       "      <th>pregnancies</th>\n",
       "      <th>glucose</th>\n",
       "      <th>bloodpressure</th>\n",
       "      <th>skinthickness</th>\n",
       "      <th>insulin</th>\n",
       "      <th>bmi</th>\n",
       "      <th>diabetespedigreefunction</th>\n",
       "      <th>age</th>\n",
       "    </tr>\n",
       "  </thead>\n",
       "  <tbody>\n",
       "    <tr>\n",
       "      <th>0</th>\n",
       "      <td>6</td>\n",
       "      <td>148.0</td>\n",
       "      <td>72.0</td>\n",
       "      <td>35.000000</td>\n",
       "      <td>155.102302</td>\n",
       "      <td>33.6</td>\n",
       "      <td>0.627</td>\n",
       "      <td>50.0</td>\n",
       "    </tr>\n",
       "    <tr>\n",
       "      <th>1</th>\n",
       "      <td>1</td>\n",
       "      <td>85.0</td>\n",
       "      <td>66.0</td>\n",
       "      <td>29.000000</td>\n",
       "      <td>155.102302</td>\n",
       "      <td>26.6</td>\n",
       "      <td>0.351</td>\n",
       "      <td>31.0</td>\n",
       "    </tr>\n",
       "    <tr>\n",
       "      <th>2</th>\n",
       "      <td>8</td>\n",
       "      <td>183.0</td>\n",
       "      <td>64.0</td>\n",
       "      <td>29.109665</td>\n",
       "      <td>155.102302</td>\n",
       "      <td>23.3</td>\n",
       "      <td>0.672</td>\n",
       "      <td>32.0</td>\n",
       "    </tr>\n",
       "    <tr>\n",
       "      <th>3</th>\n",
       "      <td>1</td>\n",
       "      <td>89.0</td>\n",
       "      <td>66.0</td>\n",
       "      <td>23.000000</td>\n",
       "      <td>94.000000</td>\n",
       "      <td>28.1</td>\n",
       "      <td>0.167</td>\n",
       "      <td>21.0</td>\n",
       "    </tr>\n",
       "    <tr>\n",
       "      <th>4</th>\n",
       "      <td>0</td>\n",
       "      <td>137.0</td>\n",
       "      <td>40.0</td>\n",
       "      <td>35.000000</td>\n",
       "      <td>168.000000</td>\n",
       "      <td>43.1</td>\n",
       "      <td>2.288</td>\n",
       "      <td>33.0</td>\n",
       "    </tr>\n",
       "    <tr>\n",
       "      <th>...</th>\n",
       "      <td>...</td>\n",
       "      <td>...</td>\n",
       "      <td>...</td>\n",
       "      <td>...</td>\n",
       "      <td>...</td>\n",
       "      <td>...</td>\n",
       "      <td>...</td>\n",
       "      <td>...</td>\n",
       "    </tr>\n",
       "    <tr>\n",
       "      <th>1531</th>\n",
       "      <td>10</td>\n",
       "      <td>101.0</td>\n",
       "      <td>76.0</td>\n",
       "      <td>48.000000</td>\n",
       "      <td>180.000000</td>\n",
       "      <td>32.9</td>\n",
       "      <td>0.171</td>\n",
       "      <td>63.0</td>\n",
       "    </tr>\n",
       "    <tr>\n",
       "      <th>1532</th>\n",
       "      <td>2</td>\n",
       "      <td>122.0</td>\n",
       "      <td>70.0</td>\n",
       "      <td>27.000000</td>\n",
       "      <td>155.102302</td>\n",
       "      <td>36.8</td>\n",
       "      <td>0.340</td>\n",
       "      <td>27.0</td>\n",
       "    </tr>\n",
       "    <tr>\n",
       "      <th>1533</th>\n",
       "      <td>5</td>\n",
       "      <td>121.0</td>\n",
       "      <td>72.0</td>\n",
       "      <td>23.000000</td>\n",
       "      <td>112.000000</td>\n",
       "      <td>26.2</td>\n",
       "      <td>0.245</td>\n",
       "      <td>30.0</td>\n",
       "    </tr>\n",
       "    <tr>\n",
       "      <th>1534</th>\n",
       "      <td>1</td>\n",
       "      <td>126.0</td>\n",
       "      <td>60.0</td>\n",
       "      <td>29.109665</td>\n",
       "      <td>155.102302</td>\n",
       "      <td>30.1</td>\n",
       "      <td>0.349</td>\n",
       "      <td>47.0</td>\n",
       "    </tr>\n",
       "    <tr>\n",
       "      <th>1535</th>\n",
       "      <td>1</td>\n",
       "      <td>93.0</td>\n",
       "      <td>70.0</td>\n",
       "      <td>31.000000</td>\n",
       "      <td>155.102302</td>\n",
       "      <td>30.4</td>\n",
       "      <td>0.315</td>\n",
       "      <td>23.0</td>\n",
       "    </tr>\n",
       "  </tbody>\n",
       "</table>\n",
       "<p>1536 rows × 8 columns</p>\n",
       "</div>"
      ],
      "text/plain": [
       "      pregnancies  glucose  bloodpressure  skinthickness     insulin   bmi  \\\n",
       "0               6    148.0           72.0      35.000000  155.102302  33.6   \n",
       "1               1     85.0           66.0      29.000000  155.102302  26.6   \n",
       "2               8    183.0           64.0      29.109665  155.102302  23.3   \n",
       "3               1     89.0           66.0      23.000000   94.000000  28.1   \n",
       "4               0    137.0           40.0      35.000000  168.000000  43.1   \n",
       "...           ...      ...            ...            ...         ...   ...   \n",
       "1531           10    101.0           76.0      48.000000  180.000000  32.9   \n",
       "1532            2    122.0           70.0      27.000000  155.102302  36.8   \n",
       "1533            5    121.0           72.0      23.000000  112.000000  26.2   \n",
       "1534            1    126.0           60.0      29.109665  155.102302  30.1   \n",
       "1535            1     93.0           70.0      31.000000  155.102302  30.4   \n",
       "\n",
       "      diabetespedigreefunction   age  \n",
       "0                        0.627  50.0  \n",
       "1                        0.351  31.0  \n",
       "2                        0.672  32.0  \n",
       "3                        0.167  21.0  \n",
       "4                        2.288  33.0  \n",
       "...                        ...   ...  \n",
       "1531                     0.171  63.0  \n",
       "1532                     0.340  27.0  \n",
       "1533                     0.245  30.0  \n",
       "1534                     0.349  47.0  \n",
       "1535                     0.315  23.0  \n",
       "\n",
       "[1536 rows x 8 columns]"
      ]
     },
     "execution_count": 47,
     "metadata": {},
     "output_type": "execute_result"
    }
   ],
   "source": [
    "# Porównanie z regresją logistyczną\n",
    "df = pd.read_csv(\"cukrzyca.csv\")\n",
    "\n",
    "X = df.iloc[:, :-1]\n",
    "y = df.outcome\n",
    "\n",
    "X_train, X_test, y_train, y_test = train_test_split(X, y, test_size=0.2, random_state=0)\n",
    "\n",
    "\n",
    "model = DecisionTreeClassifier(max_depth=8, random_state=0)\n",
    "model.fit(X_train, y_train)\n",
    "print(\"TEST\",model.score(X_test, y_test))\n",
    "print(\"TRAIN\",model.score(X_train, y_train))\n",
    "\n",
    "y_pred = model.predict(X_test)\n",
    "pd.DataFrame( confusion_matrix(y_test, y_pred) )"
   ]
  },
  {
   "cell_type": "code",
   "execution_count": null,
   "id": "5a253e13",
   "metadata": {},
   "outputs": [],
   "source": []
  }
 ],
 "metadata": {
  "kernelspec": {
   "display_name": "Python 3 (ipykernel)",
   "language": "python",
   "name": "python3"
  },
  "language_info": {
   "codemirror_mode": {
    "name": "ipython",
    "version": 3
   },
   "file_extension": ".py",
   "mimetype": "text/x-python",
   "name": "python",
   "nbconvert_exporter": "python",
   "pygments_lexer": "ipython3",
   "version": "3.9.12"
  }
 },
 "nbformat": 4,
 "nbformat_minor": 5
}
